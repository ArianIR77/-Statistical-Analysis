{
 "cells": [
  {
   "cell_type": "markdown",
   "id": "144730b9",
   "metadata": {},
   "source": [
    "How to conduct commonly used inferential statistical tests in R?\n",
    "\n",
    "* The chi-squared test of independence, which is a statistical test to      understand whether there is a relationship between two categorical        variables. \n",
    "* The chi-squared test of independence is one of a few bivariate, or        two-variable, tests that are widely used in statistical analyses across   many fields."
   ]
  },
  {
   "cell_type": "markdown",
   "id": "2d3f031a",
   "metadata": {},
   "source": [
    "NOTE: \n",
    "\n",
    "* Before conducting any sort of inferential analyses that use sample data   to understand a population, it is a best practice to get to know the      sample data using descriptive statistics and graphics. This step in       research is often called exploratory data analysis or EDA. \n",
    "* The descriptive statistics for EDA examining categorical variables are    frequencies and percentages"
   ]
  },
  {
   "cell_type": "code",
   "execution_count": 1,
   "id": "64feb04d",
   "metadata": {},
   "outputs": [],
   "source": [
    "import pyreadstat\n",
    "\n",
    "# Specify the path to the .sav file\n",
    "file_path = \"pew_apr_19-23_2017_weekly_ch5.sav\"\n",
    "\n",
    "# Read the .sav file\n",
    "vote, meta = pyreadstat.read_sav(file_path)"
   ]
  },
  {
   "cell_type": "code",
   "execution_count": 4,
   "id": "84c7e935",
   "metadata": {},
   "outputs": [
    {
     "data": {
      "text/html": [
       "<div>\n",
       "<style scoped>\n",
       "    .dataframe tbody tr th:only-of-type {\n",
       "        vertical-align: middle;\n",
       "    }\n",
       "\n",
       "    .dataframe tbody tr th {\n",
       "        vertical-align: top;\n",
       "    }\n",
       "\n",
       "    .dataframe thead th {\n",
       "        text-align: right;\n",
       "    }\n",
       "</style>\n",
       "<table border=\"1\" class=\"dataframe\">\n",
       "  <thead>\n",
       "    <tr style=\"text-align: right;\">\n",
       "      <th></th>\n",
       "      <th>case_id</th>\n",
       "      <th>week</th>\n",
       "      <th>state</th>\n",
       "      <th>metro</th>\n",
       "      <th>region</th>\n",
       "      <th>division</th>\n",
       "      <th>date</th>\n",
       "      <th>pew1rot</th>\n",
       "      <th>pew1arot</th>\n",
       "      <th>pew1a</th>\n",
       "      <th>...</th>\n",
       "      <th>polview</th>\n",
       "      <th>regvote</th>\n",
       "      <th>c3a</th>\n",
       "      <th>sex</th>\n",
       "      <th>religion</th>\n",
       "      <th>ident</th>\n",
       "      <th>c1a</th>\n",
       "      <th>bornus</th>\n",
       "      <th>qnco3</th>\n",
       "      <th>popwght</th>\n",
       "    </tr>\n",
       "  </thead>\n",
       "  <tbody>\n",
       "    <tr>\n",
       "      <th>0</th>\n",
       "      <td>10000053</td>\n",
       "      <td>816.0</td>\n",
       "      <td>SC</td>\n",
       "      <td>3.0</td>\n",
       "      <td>3.0</td>\n",
       "      <td>5.0</td>\n",
       "      <td>170419</td>\n",
       "      <td>EDBCA</td>\n",
       "      <td>1.0</td>\n",
       "      <td>2.0</td>\n",
       "      <td>...</td>\n",
       "      <td>3.0</td>\n",
       "      <td>1.0</td>\n",
       "      <td>1.0</td>\n",
       "      <td>2.0</td>\n",
       "      <td>1.0</td>\n",
       "      <td>1.0</td>\n",
       "      <td>1.0</td>\n",
       "      <td>NaN</td>\n",
       "      <td>NaN</td>\n",
       "      <td>1.5468</td>\n",
       "    </tr>\n",
       "    <tr>\n",
       "      <th>1</th>\n",
       "      <td>10000054</td>\n",
       "      <td>816.0</td>\n",
       "      <td>PA</td>\n",
       "      <td>2.0</td>\n",
       "      <td>1.0</td>\n",
       "      <td>2.0</td>\n",
       "      <td>170419</td>\n",
       "      <td>ABECD</td>\n",
       "      <td>1.0</td>\n",
       "      <td>1.0</td>\n",
       "      <td>...</td>\n",
       "      <td>1.0</td>\n",
       "      <td>1.0</td>\n",
       "      <td>1.0</td>\n",
       "      <td>2.0</td>\n",
       "      <td>90.0</td>\n",
       "      <td>1.0</td>\n",
       "      <td>3.0</td>\n",
       "      <td>NaN</td>\n",
       "      <td>NaN</td>\n",
       "      <td>0.4379</td>\n",
       "    </tr>\n",
       "    <tr>\n",
       "      <th>2</th>\n",
       "      <td>10000055</td>\n",
       "      <td>816.0</td>\n",
       "      <td>WV</td>\n",
       "      <td>1.0</td>\n",
       "      <td>3.0</td>\n",
       "      <td>5.0</td>\n",
       "      <td>170419</td>\n",
       "      <td>ECABD</td>\n",
       "      <td>2.0</td>\n",
       "      <td>9.0</td>\n",
       "      <td>...</td>\n",
       "      <td>2.0</td>\n",
       "      <td>1.0</td>\n",
       "      <td>1.0</td>\n",
       "      <td>1.0</td>\n",
       "      <td>99.0</td>\n",
       "      <td>1.0</td>\n",
       "      <td>NaN</td>\n",
       "      <td>NaN</td>\n",
       "      <td>NaN</td>\n",
       "      <td>1.1530</td>\n",
       "    </tr>\n",
       "    <tr>\n",
       "      <th>3</th>\n",
       "      <td>10000056</td>\n",
       "      <td>816.0</td>\n",
       "      <td>MI</td>\n",
       "      <td>3.0</td>\n",
       "      <td>2.0</td>\n",
       "      <td>3.0</td>\n",
       "      <td>170419</td>\n",
       "      <td>BCDAE</td>\n",
       "      <td>1.0</td>\n",
       "      <td>2.0</td>\n",
       "      <td>...</td>\n",
       "      <td>4.0</td>\n",
       "      <td>1.0</td>\n",
       "      <td>1.0</td>\n",
       "      <td>2.0</td>\n",
       "      <td>2.0</td>\n",
       "      <td>1.0</td>\n",
       "      <td>1.0</td>\n",
       "      <td>NaN</td>\n",
       "      <td>NaN</td>\n",
       "      <td>0.4024</td>\n",
       "    </tr>\n",
       "    <tr>\n",
       "      <th>4</th>\n",
       "      <td>10000057</td>\n",
       "      <td>816.0</td>\n",
       "      <td>GA</td>\n",
       "      <td>3.0</td>\n",
       "      <td>3.0</td>\n",
       "      <td>5.0</td>\n",
       "      <td>170419</td>\n",
       "      <td>CABDE</td>\n",
       "      <td>2.0</td>\n",
       "      <td>1.0</td>\n",
       "      <td>...</td>\n",
       "      <td>1.0</td>\n",
       "      <td>1.0</td>\n",
       "      <td>1.0</td>\n",
       "      <td>2.0</td>\n",
       "      <td>1.0</td>\n",
       "      <td>1.0</td>\n",
       "      <td>0.0</td>\n",
       "      <td>NaN</td>\n",
       "      <td>NaN</td>\n",
       "      <td>0.2671</td>\n",
       "    </tr>\n",
       "  </tbody>\n",
       "</table>\n",
       "<p>5 rows × 49 columns</p>\n",
       "</div>"
      ],
      "text/plain": [
       "    case_id   week state  metro  region  division    date pew1rot  pew1arot  \\\n",
       "0  10000053  816.0    SC    3.0     3.0       5.0  170419   EDBCA       1.0   \n",
       "1  10000054  816.0    PA    2.0     1.0       2.0  170419   ABECD       1.0   \n",
       "2  10000055  816.0    WV    1.0     3.0       5.0  170419   ECABD       2.0   \n",
       "3  10000056  816.0    MI    3.0     2.0       3.0  170419   BCDAE       1.0   \n",
       "4  10000057  816.0    GA    3.0     3.0       5.0  170419   CABDE       2.0   \n",
       "\n",
       "   pew1a  ...  polview  regvote  c3a  sex  religion  ident  c1a  bornus  \\\n",
       "0    2.0  ...      3.0      1.0  1.0  2.0       1.0    1.0  1.0     NaN   \n",
       "1    1.0  ...      1.0      1.0  1.0  2.0      90.0    1.0  3.0     NaN   \n",
       "2    9.0  ...      2.0      1.0  1.0  1.0      99.0    1.0  NaN     NaN   \n",
       "3    2.0  ...      4.0      1.0  1.0  2.0       2.0    1.0  1.0     NaN   \n",
       "4    1.0  ...      1.0      1.0  1.0  2.0       1.0    1.0  0.0     NaN   \n",
       "\n",
       "   qnco3  popwght  \n",
       "0    NaN   1.5468  \n",
       "1    NaN   0.4379  \n",
       "2    NaN   1.1530  \n",
       "3    NaN   0.4024  \n",
       "4    NaN   0.2671  \n",
       "\n",
       "[5 rows x 49 columns]"
      ]
     },
     "execution_count": 4,
     "metadata": {},
     "output_type": "execute_result"
    }
   ],
   "source": [
    "vote.head()"
   ]
  },
  {
   "cell_type": "code",
   "execution_count": 5,
   "id": "6e3df3ee",
   "metadata": {},
   "outputs": [],
   "source": [
    "# Select variables of interest\n",
    "vote_cleaned = vote[['pew1a', 'pew1b', 'race', 'sex', 'mstatus', 'ownhome', 'employ', 'polparty']]"
   ]
  },
  {
   "cell_type": "code",
   "execution_count": 6,
   "id": "31afdcaa",
   "metadata": {},
   "outputs": [
    {
     "name": "stdout",
     "output_type": "stream",
     "text": [
      "<class 'pandas.core.frame.DataFrame'>\n",
      "RangeIndex: 1028 entries, 0 to 1027\n",
      "Data columns (total 8 columns):\n",
      " #   Column    Non-Null Count  Dtype  \n",
      "---  ------    --------------  -----  \n",
      " 0   pew1a     1028 non-null   float64\n",
      " 1   pew1b     1028 non-null   float64\n",
      " 2   race      1028 non-null   float64\n",
      " 3   sex       1028 non-null   float64\n",
      " 4   mstatus   1028 non-null   float64\n",
      " 5   ownhome   1028 non-null   float64\n",
      " 6   employ    1028 non-null   float64\n",
      " 7   polparty  1028 non-null   float64\n",
      "dtypes: float64(8)\n",
      "memory usage: 64.4 KB\n"
     ]
    }
   ],
   "source": [
    "vote_cleaned.info()"
   ]
  },
  {
   "cell_type": "code",
   "execution_count": 10,
   "id": "b7ac2f03",
   "metadata": {},
   "outputs": [
    {
     "name": "stderr",
     "output_type": "stream",
     "text": [
      "C:\\Users\\Arian\\AppData\\Local\\Temp\\ipykernel_17876\\501006646.py:7: SettingWithCopyWarning: \n",
      "A value is trying to be set on a copy of a slice from a DataFrame.\n",
      "Try using .loc[row_indexer,col_indexer] = value instead\n",
      "\n",
      "See the caveats in the documentation: https://pandas.pydata.org/pandas-docs/stable/user_guide/indexing.html#returning-a-view-versus-a-copy\n",
      "  vote_cleaned['pew1a'] = vote_cleaned['pew1a'].replace({1: 'Register to vote', 2: 'Make easy to vote', 5: None, 9: None})\n"
     ]
    }
   ],
   "source": [
    "import pandas as pd\n",
    "\n",
    "# Select variables of interest and clean them\n",
    "vote_cleaned = vote[['pew1a', 'pew1b', 'race', 'sex', 'mstatus', 'ownhome', 'employ', 'polparty']]\n",
    "\n",
    "# Clean and transform variables\n",
    "vote_cleaned['pew1a'] = vote_cleaned['pew1a'].replace({1: 'Register to vote', 2: 'Make easy to vote', 5: None, 9: None})\n",
    "vote_cleaned = vote_cleaned.rename(columns={'pew1a': 'ease.vote'})\n",
    "\n",
    "vote_cleaned['pew1b'] = vote_cleaned['pew1b'].replace({1: 'Require to vote', 2: 'Choose to vote', 5: None, 9: None})\n",
    "vote_cleaned = vote_cleaned.rename(columns={'pew1b': 'require.vote'})\n",
    "\n",
    "vote_cleaned['race'] = vote_cleaned['race'].replace({1: 'White non-Hispanic', 2: 'Black non-Hispanic',\n",
    "                                                    3: 'Hispanic', 4: 'Hispanic', 5: 'Hispanic',\n",
    "                                                    6: 'Other', 7: 'Other', 8: 'Other', 9: 'Other',\n",
    "                                                    10: 'Other', 99: None})\n",
    "\n",
    "vote_cleaned['sex'] = vote_cleaned['sex'].replace({1: 'Male', 2: 'Female'})\n",
    "\n",
    "vote_cleaned['ownhome'] = vote_cleaned['ownhome'].replace({1: 'Owned', 2: 'Rented', 8: None, 9: None})\n"
   ]
  },
  {
   "cell_type": "code",
   "execution_count": 11,
   "id": "427fe1a5",
   "metadata": {},
   "outputs": [
    {
     "data": {
      "text/html": [
       "<div>\n",
       "<style scoped>\n",
       "    .dataframe tbody tr th:only-of-type {\n",
       "        vertical-align: middle;\n",
       "    }\n",
       "\n",
       "    .dataframe tbody tr th {\n",
       "        vertical-align: top;\n",
       "    }\n",
       "\n",
       "    .dataframe thead th {\n",
       "        text-align: right;\n",
       "    }\n",
       "</style>\n",
       "<table border=\"1\" class=\"dataframe\">\n",
       "  <thead>\n",
       "    <tr style=\"text-align: right;\">\n",
       "      <th></th>\n",
       "      <th>ease.vote</th>\n",
       "      <th>require.vote</th>\n",
       "      <th>race</th>\n",
       "      <th>sex</th>\n",
       "      <th>mstatus</th>\n",
       "      <th>ownhome</th>\n",
       "      <th>employ</th>\n",
       "      <th>polparty</th>\n",
       "    </tr>\n",
       "  </thead>\n",
       "  <tbody>\n",
       "    <tr>\n",
       "      <th>0</th>\n",
       "      <td>Make easy to vote</td>\n",
       "      <td>Choose to vote</td>\n",
       "      <td>Black non-Hispanic</td>\n",
       "      <td>Female</td>\n",
       "      <td>3.0</td>\n",
       "      <td>Owned</td>\n",
       "      <td>1.0</td>\n",
       "      <td>2.0</td>\n",
       "    </tr>\n",
       "    <tr>\n",
       "      <th>1</th>\n",
       "      <td>Register to vote</td>\n",
       "      <td>Choose to vote</td>\n",
       "      <td>White non-Hispanic</td>\n",
       "      <td>Female</td>\n",
       "      <td>6.0</td>\n",
       "      <td>Owned</td>\n",
       "      <td>1.0</td>\n",
       "      <td>1.0</td>\n",
       "    </tr>\n",
       "    <tr>\n",
       "      <th>2</th>\n",
       "      <td>None</td>\n",
       "      <td>None</td>\n",
       "      <td>White non-Hispanic</td>\n",
       "      <td>Male</td>\n",
       "      <td>9.0</td>\n",
       "      <td>Owned</td>\n",
       "      <td>3.0</td>\n",
       "      <td>1.0</td>\n",
       "    </tr>\n",
       "    <tr>\n",
       "      <th>3</th>\n",
       "      <td>Make easy to vote</td>\n",
       "      <td>Require to vote</td>\n",
       "      <td>White non-Hispanic</td>\n",
       "      <td>Female</td>\n",
       "      <td>6.0</td>\n",
       "      <td>Owned</td>\n",
       "      <td>3.0</td>\n",
       "      <td>2.0</td>\n",
       "    </tr>\n",
       "    <tr>\n",
       "      <th>4</th>\n",
       "      <td>Register to vote</td>\n",
       "      <td>Require to vote</td>\n",
       "      <td>White non-Hispanic</td>\n",
       "      <td>Female</td>\n",
       "      <td>5.0</td>\n",
       "      <td>Owned</td>\n",
       "      <td>3.0</td>\n",
       "      <td>1.0</td>\n",
       "    </tr>\n",
       "  </tbody>\n",
       "</table>\n",
       "</div>"
      ],
      "text/plain": [
       "           ease.vote     require.vote                race     sex  mstatus  \\\n",
       "0  Make easy to vote   Choose to vote  Black non-Hispanic  Female      3.0   \n",
       "1   Register to vote   Choose to vote  White non-Hispanic  Female      6.0   \n",
       "2               None             None  White non-Hispanic    Male      9.0   \n",
       "3  Make easy to vote  Require to vote  White non-Hispanic  Female      6.0   \n",
       "4   Register to vote  Require to vote  White non-Hispanic  Female      5.0   \n",
       "\n",
       "  ownhome  employ  polparty  \n",
       "0   Owned     1.0       2.0  \n",
       "1   Owned     1.0       1.0  \n",
       "2   Owned     3.0       1.0  \n",
       "3   Owned     3.0       2.0  \n",
       "4   Owned     3.0       1.0  "
      ]
     },
     "execution_count": 11,
     "metadata": {},
     "output_type": "execute_result"
    }
   ],
   "source": [
    "vote_cleaned.head()"
   ]
  },
  {
   "cell_type": "code",
   "execution_count": 12,
   "id": "17bdb390",
   "metadata": {
    "scrolled": true
   },
   "outputs": [
    {
     "name": "stdout",
     "output_type": "stream",
     "text": [
      "<class 'pandas.core.frame.DataFrame'>\n",
      "RangeIndex: 1028 entries, 0 to 1027\n",
      "Data columns (total 8 columns):\n",
      " #   Column        Non-Null Count  Dtype  \n",
      "---  ------        --------------  -----  \n",
      " 0   ease.vote     1001 non-null   object \n",
      " 1   require.vote  1011 non-null   object \n",
      " 2   race          1003 non-null   object \n",
      " 3   sex           1028 non-null   object \n",
      " 4   mstatus       1028 non-null   float64\n",
      " 5   ownhome       1006 non-null   object \n",
      " 6   employ        1028 non-null   float64\n",
      " 7   polparty      1028 non-null   float64\n",
      "dtypes: float64(3), object(5)\n",
      "memory usage: 64.4+ KB\n"
     ]
    }
   ],
   "source": [
    "vote_cleaned.info()"
   ]
  },
  {
   "cell_type": "markdown",
   "id": "1d349c3b",
   "metadata": {},
   "source": [
    "## Using descriptive statistics to examine the relationship between two categorical variable\n",
    "\n",
    "Examine the relationship between ease of voting and race"
   ]
  },
  {
   "cell_type": "code",
   "execution_count": 13,
   "id": "de90f82f",
   "metadata": {},
   "outputs": [
    {
     "data": {
      "text/html": [
       "<div>\n",
       "<style scoped>\n",
       "    .dataframe tbody tr th:only-of-type {\n",
       "        vertical-align: middle;\n",
       "    }\n",
       "\n",
       "    .dataframe tbody tr th {\n",
       "        vertical-align: top;\n",
       "    }\n",
       "\n",
       "    .dataframe thead th {\n",
       "        text-align: right;\n",
       "    }\n",
       "</style>\n",
       "<table border=\"1\" class=\"dataframe\">\n",
       "  <thead>\n",
       "    <tr style=\"text-align: right;\">\n",
       "      <th></th>\n",
       "      <th>ease.vote</th>\n",
       "      <th>race</th>\n",
       "      <th>freq.n</th>\n",
       "    </tr>\n",
       "  </thead>\n",
       "  <tbody>\n",
       "    <tr>\n",
       "      <th>0</th>\n",
       "      <td>Make easy to vote</td>\n",
       "      <td>Black non-Hispanic</td>\n",
       "      <td>98</td>\n",
       "    </tr>\n",
       "    <tr>\n",
       "      <th>1</th>\n",
       "      <td>Make easy to vote</td>\n",
       "      <td>Hispanic</td>\n",
       "      <td>97</td>\n",
       "    </tr>\n",
       "    <tr>\n",
       "      <th>2</th>\n",
       "      <td>Make easy to vote</td>\n",
       "      <td>Other</td>\n",
       "      <td>46</td>\n",
       "    </tr>\n",
       "    <tr>\n",
       "      <th>3</th>\n",
       "      <td>Make easy to vote</td>\n",
       "      <td>White non-Hispanic</td>\n",
       "      <td>338</td>\n",
       "    </tr>\n",
       "    <tr>\n",
       "      <th>4</th>\n",
       "      <td>Register to vote</td>\n",
       "      <td>Black non-Hispanic</td>\n",
       "      <td>28</td>\n",
       "    </tr>\n",
       "    <tr>\n",
       "      <th>5</th>\n",
       "      <td>Register to vote</td>\n",
       "      <td>Hispanic</td>\n",
       "      <td>51</td>\n",
       "    </tr>\n",
       "    <tr>\n",
       "      <th>6</th>\n",
       "      <td>Register to vote</td>\n",
       "      <td>Other</td>\n",
       "      <td>27</td>\n",
       "    </tr>\n",
       "    <tr>\n",
       "      <th>7</th>\n",
       "      <td>Register to vote</td>\n",
       "      <td>White non-Hispanic</td>\n",
       "      <td>292</td>\n",
       "    </tr>\n",
       "  </tbody>\n",
       "</table>\n",
       "</div>"
      ],
      "text/plain": [
       "           ease.vote                race  freq.n\n",
       "0  Make easy to vote  Black non-Hispanic      98\n",
       "1  Make easy to vote            Hispanic      97\n",
       "2  Make easy to vote               Other      46\n",
       "3  Make easy to vote  White non-Hispanic     338\n",
       "4   Register to vote  Black non-Hispanic      28\n",
       "5   Register to vote            Hispanic      51\n",
       "6   Register to vote               Other      27\n",
       "7   Register to vote  White non-Hispanic     292"
      ]
     },
     "execution_count": 13,
     "metadata": {},
     "output_type": "execute_result"
    }
   ],
   "source": [
    "vote_cleaned.dropna(subset=['ease.vote', 'race']) \\\n",
    "    .groupby(['ease.vote', 'race']) \\\n",
    "    .size() \\\n",
    "    .reset_index(name='freq.n')\n"
   ]
  },
  {
   "cell_type": "code",
   "execution_count": 14,
   "id": "53be8253",
   "metadata": {},
   "outputs": [
    {
     "data": {
      "text/html": [
       "<div>\n",
       "<style scoped>\n",
       "    .dataframe tbody tr th:only-of-type {\n",
       "        vertical-align: middle;\n",
       "    }\n",
       "\n",
       "    .dataframe tbody tr th {\n",
       "        vertical-align: top;\n",
       "    }\n",
       "\n",
       "    .dataframe thead th {\n",
       "        text-align: right;\n",
       "    }\n",
       "</style>\n",
       "<table border=\"1\" class=\"dataframe\">\n",
       "  <thead>\n",
       "    <tr style=\"text-align: right;\">\n",
       "      <th>race</th>\n",
       "      <th>Black non-Hispanic</th>\n",
       "      <th>Hispanic</th>\n",
       "      <th>Other</th>\n",
       "      <th>White non-Hispanic</th>\n",
       "    </tr>\n",
       "    <tr>\n",
       "      <th>ease.vote</th>\n",
       "      <th></th>\n",
       "      <th></th>\n",
       "      <th></th>\n",
       "      <th></th>\n",
       "    </tr>\n",
       "  </thead>\n",
       "  <tbody>\n",
       "    <tr>\n",
       "      <th>Make easy to vote</th>\n",
       "      <td>98</td>\n",
       "      <td>97</td>\n",
       "      <td>46</td>\n",
       "      <td>338</td>\n",
       "    </tr>\n",
       "    <tr>\n",
       "      <th>Register to vote</th>\n",
       "      <td>28</td>\n",
       "      <td>51</td>\n",
       "      <td>27</td>\n",
       "      <td>292</td>\n",
       "    </tr>\n",
       "  </tbody>\n",
       "</table>\n",
       "</div>"
      ],
      "text/plain": [
       "race               Black non-Hispanic  Hispanic  Other  White non-Hispanic\n",
       "ease.vote                                                                 \n",
       "Make easy to vote                  98        97     46                 338\n",
       "Register to vote                   28        51     27                 292"
      ]
     },
     "execution_count": 14,
     "metadata": {},
     "output_type": "execute_result"
    }
   ],
   "source": [
    "vote_cleaned.dropna(subset=['ease.vote', 'race']) \\\n",
    "    .groupby(['ease.vote', 'race']) \\\n",
    "    .size() \\\n",
    "    .unstack('race')\n"
   ]
  },
  {
   "cell_type": "code",
   "execution_count": 18,
   "id": "2afa8625",
   "metadata": {},
   "outputs": [
    {
     "name": "stdout",
     "output_type": "stream",
     "text": [
      "race               Black non-Hispanic   Hispanic      Other  \\\n",
      "ease.vote                                                     \n",
      "Make easy to vote           77.777778  65.540541  63.013699   \n",
      "Register to vote            22.222222  34.459459  36.986301   \n",
      "\n",
      "race               White non-Hispanic  \n",
      "ease.vote                              \n",
      "Make easy to vote           53.650794  \n",
      "Register to vote            46.349206  \n"
     ]
    }
   ],
   "source": [
    "# Compute the table of percentages\n",
    "table = pd.crosstab(vote_cleaned[\"ease.vote\"], vote_cleaned[\"race\"], normalize=\"columns\") * 100\n",
    "\n",
    "# Print the table\n",
    "print(table)\n"
   ]
  },
  {
   "cell_type": "markdown",
   "id": "7eff9e20",
   "metadata": {},
   "source": [
    "Interpretation from the above table: \n",
    "* White non-Hispanic participants were fairly evenly divided between       those who thought people should register if they want to vote and those   who thought voting should be made as easy as possible.\n",
    "* The other three race-ethnicity groups had larger percentages in favor    of making it as easy as possible to vote, with Black non-Hispanic        participants having the highest percentage (77.78%) in favor of making   it easy to vote.\n"
   ]
  },
  {
   "cell_type": "code",
   "execution_count": 17,
   "id": "172835c7",
   "metadata": {},
   "outputs": [
    {
     "name": "stdout",
     "output_type": "stream",
     "text": [
      "race             Black non-Hispanic   Hispanic      Other  White non-Hispanic\n",
      "require.vote                                                                 \n",
      "Choose to vote            67.716535  65.986395  81.081081           84.976526\n",
      "Require to vote           32.283465  34.013605  18.918919           15.023474\n"
     ]
    }
   ],
   "source": [
    "# Compute the table of percentages with column-wise proportions\n",
    "table = pd.crosstab(vote_cleaned[\"require.vote\"], vote_cleaned[\"race\"], normalize=\"columns\") * 100\n",
    "\n",
    "# Print the table\n",
    "print(table)\n"
   ]
  },
  {
   "cell_type": "markdown",
   "id": "cebb0d9f",
   "metadata": {},
   "source": [
    "Inerpretation from the above table:\n",
    "* Most participants from the White non-Hispanic group were in favor of     letting people choose whether to vote, while the percentage in favor of   being required to vote was more than twice as high for Black             non-Hispanic and Hispanic participants. \n",
    "* The Other group was more similar to the non-Hispanic White group. \n",
    "\n",
    "\n",
    "FINALLY, what can we interpret from the above analysis??????\n",
    "* Being required to vote or choosing to vote was different by              race-ethnicity."
   ]
  },
  {
   "cell_type": "markdown",
   "id": "311ca00d",
   "metadata": {},
   "source": [
    "---\n",
    "## Using graphs to examine the relationship between two categorical variables"
   ]
  },
  {
   "cell_type": "code",
   "execution_count": 20,
   "id": "968152a1",
   "metadata": {},
   "outputs": [
    {
     "data": {
      "text/plain": [
       "Text(0.5, 1.0, 'Relationship between Registration Ease and Race-Ethnicity')"
      ]
     },
     "execution_count": 20,
     "metadata": {},
     "output_type": "execute_result"
    },
    {
     "data": {
      "image/png": "[encoded data removed]",
      "text/plain": [
       "<Figure size 800x600 with 1 Axes>"
      ]
     },
     "metadata": {},
     "output_type": "display_data"
    }
   ],
   "source": [
    "import seaborn as sns\n",
    "import matplotlib.pyplot as plt\n",
    "\n",
    "# Grouping and calculating percentages\n",
    "grouped = vote_cleaned.dropna(subset=['ease.vote', 'race']) \\\n",
    "    .groupby(['ease.vote', 'race']).size().reset_index(name='count')\n",
    "grouped['perc'] = grouped.groupby('race')['count'].transform(lambda x: (x / x.sum()) * 100)\n",
    "\n",
    "# Creating the bar plot\n",
    "plt.figure(figsize=(8, 6))\n",
    "sns.barplot(data=grouped, x='race', y='perc', hue='ease.vote',\n",
    "            palette=['gray', '#7463AC'], dodge=True)\n",
    "\n",
    "# Adjusting the plot aesthetics\n",
    "plt.xlabel('')\n",
    "plt.ylabel('Percent within group')\n",
    "plt.title('Relationship between Registration Ease and Race-Ethnicity')\n",
    "\n"
   ]
  },
  {
   "cell_type": "code",
   "execution_count": 21,
   "id": "7a5a6498",
   "metadata": {},
   "outputs": [
    {
     "data": {
      "text/plain": [
       "Text(0.5, 1.0, 'Relationship between require vote and Race-Ethnicity')"
      ]
     },
     "execution_count": 21,
     "metadata": {},
     "output_type": "execute_result"
    },
    {
     "data": {
      "image/png": "[encoded data removed]",
      "text/plain": [
       "<Figure size 800x600 with 1 Axes>"
      ]
     },
     "metadata": {},
     "output_type": "display_data"
    }
   ],
   "source": [
    "# Grouping and calculating percentages\n",
    "grouped = vote_cleaned.dropna(subset=['require.vote', 'race']) \\\n",
    "    .groupby(['require.vote', 'race']).size().reset_index(name='count')\n",
    "grouped['perc'] = grouped.groupby('race')['count'].transform(lambda x: (x / x.sum()) * 100)\n",
    "\n",
    "# Creating the bar plot\n",
    "plt.figure(figsize=(8, 6))\n",
    "sns.barplot(data=grouped, x='race', y='perc', hue='require.vote',\n",
    "            palette=['gray', '#7463AC'], dodge=True)\n",
    "\n",
    "# Adjusting the plot aesthetics\n",
    "plt.xlabel('')\n",
    "plt.ylabel('Percent within group')\n",
    "plt.title('Relationship between require vote and Race-Ethnicity')"
   ]
  },
  {
   "cell_type": "markdown",
   "id": "cfa2c9c2",
   "metadata": {},
   "source": [
    "Interpretation from the above graph:\n",
    "* This was easier to examine than the tables, and the differences were     quickly clear. \n",
    "\n",
    "FINAL INTERPRETATION BASED ON BOTH DESCRIPTIVE AND VISUAL EXPLORATORY DATA ANALYSIS:\n",
    "* Race-ethnicity was related to opinions about voter registration and      voting requirements. \n",
    "* Specifically, there was a higher percentage of White non-Hispanic        participants supporting choosing to vote, while the highest percentage   supporting making it easy to vote were Black non-Hispanic participants."
   ]
  },
  {
   "cell_type": "markdown",
   "id": "bd7d4cd4",
   "metadata": {},
   "source": [
    "---\n",
    "## Computing and comparing observed and expected values for the groups"
   ]
  },
  {
   "cell_type": "markdown",
   "id": "baba1129",
   "metadata": {},
   "source": [
    "OBSERVED VALUES:\n",
    "\n",
    "* It looked like there were some differences among the race-ethnicity      groups in support for ease of voter registration and for requirements    to vote. \n",
    "\n",
    "CHI-SQUARED TEST\n",
    "* The chi-squared test is useful for testing to see if there may be a      statistical relationship between two categorical variables. \n",
    "* The chi-squared test is based on the observed values, like the ones in   the tables we created , and the values expected to occur if    there were no relationship between the variables.\n",
    "\n",
    "That is, given overall frequencies for the two variables from the data summary, how many people would we expect to be in each of the cells of the table just shown?"
   ]
  },
  {
   "cell_type": "markdown",
   "id": "181c259d",
   "metadata": {},
   "source": [
    "### Comparing observed and expected values\n",
    "\n",
    "* If there were no relationship between opinions on voting ease and        race-ethnicity, the observed and expected values would be the same.   \n",
    "* That is, the observed data would show that 373.4 (check line 368) White   non-Hispanic people wanted to make it easy to vote.\n",
    "\n",
    "\n",
    "NOTE:\n",
    "* Differences between observed values and expected indicates that there    may be a relationship between the variables. \n",
    "* In this case, it looks like there are more people than expected who      want to make voting easier in all the categories, except non-Hispanic    White. \n",
    "* In the non-Hispanic White category, there are more people than expected   who want people to prove they want to vote by registering. \n",
    "* This suggests that there may be some relationship between opinions       about the ease of voting and race-ethnicity.\n",
    "\n",
    "\n",
    "##############ASSUMPTIONS OF CHI-SQUARED TEST OF INDEPENDENCE############\n",
    "\n",
    "* There are lists of requirements that must be met before using a          statistical test.\n",
    "\n",
    "3 Assumptions:\n",
    "\n",
    "Assumption 1:\n",
    "- The variables must be nominal or ordinal (usually nominal).\n",
    "  (Race has categories that are in no particular order, so it is nominal.    The ease of voting variable has categories that are in no particular     order, so it is also nominal. This assumption is met.)\n",
    "\n",
    "Assumption 2:\n",
    "- The expected values should be 5 or higher in at least 80% of groups.\n",
    "  (The groups are the different cells of the table, so White non-Hispanic    participants who think people should register to vote is one group. \n",
    "   In this example, there are 8 groups, so 80% of this would be 6.4         groups. Since there is no way to have .4 of a group, 7 or more of the    groups should have expected values of 5 or more. \n",
    "   None of the groups have expected values even close to 5; all are much    higher. This assumption is met.)\n",
    "\n",
    "Assumption 3:   \n",
    "- The observations must be independent.\n",
    "  (There are a couple of ways observations can be nonindependent. \n",
    "   One way to violate this assumption would be if the data included the     same set of people before and after some intervention or treatment. \n",
    "   Another way to violate this assumption would be for the data to          include siblings or parents and children or spouses or other people      who are somehow linked to one another. \n",
    "   Since people who are linked to each other often have similar             characteristics, statistical tests on related observations need to be    able to account for this, and the chi-squared test does not. \n",
    "   The Pew data included independent observations (not siblings or other    related people and not the same people measured more than once), so      this assumption is met.)"
   ]
  },
  {
   "cell_type": "markdown",
   "id": "5d25494a",
   "metadata": {},
   "source": [
    "## Calculating the chi-squared statistic for the test of independence\n",
    "\n",
    "Step 1: Summing the differences between observed and expected values\n",
    "Step 2: Squaring the summed differences and dividing by their expected           value\n",
    "\n",
    "How to compute using Python?\n"
   ]
  },
  {
   "cell_type": "code",
   "execution_count": 22,
   "id": "97968da9",
   "metadata": {},
   "outputs": [
    {
     "name": "stdout",
     "output_type": "stream",
     "text": [
      "Chi-squared statistic: 28.951544743246167\n",
      "p-value: 2.2925503795395684e-06\n"
     ]
    }
   ],
   "source": [
    "from scipy.stats import chi2_contingency\n",
    "\n",
    "# Create a contingency table of ease of voting and race\n",
    "contingency_table = pd.crosstab(vote_cleaned['ease.vote'], vote_cleaned['race'])\n",
    "\n",
    "# Perform chi-squared test\n",
    "chi2, p_value, _, _ = chi2_contingency(contingency_table)\n",
    "\n",
    "# Print the chi-squared statistic and p-value\n",
    "print(\"Chi-squared statistic:\", chi2)\n",
    "print(\"p-value:\", p_value)\n"
   ]
  },
  {
   "cell_type": "markdown",
   "id": "26dfbca1",
   "metadata": {},
   "source": [
    "## Using the chi-squared distribution to determine probability"
   ]
  },
  {
   "cell_type": "code",
   "execution_count": 23,
   "id": "199921e3",
   "metadata": {},
   "outputs": [
    {
     "data": {
      "text/plain": [
       "Text(0, 0.5, 'Probability Density')"
      ]
     },
     "execution_count": 23,
     "metadata": {},
     "output_type": "execute_result"
    },
    {
     "data": {
      "image/png": "[encoded data removed]",
      "text/plain": [
       "<Figure size 640x480 with 1 Axes>"
      ]
     },
     "metadata": {},
     "output_type": "display_data"
    }
   ],
   "source": [
    "import numpy as np\n",
    "import matplotlib.pyplot as plt\n",
    "from scipy.stats import chi2\n",
    "\n",
    "# Generate x values from 0 to 30\n",
    "x = np.linspace(0, 30, 100)\n",
    "\n",
    "# Compute the chi-square probability density function with 3 degrees of freedom\n",
    "pdf = chi2.pdf(x, df=3)\n",
    "\n",
    "# Plot the chi-square probability distribution\n",
    "plt.plot(x, pdf, linewidth=2, color='steelblue')\n",
    "plt.title('Chi-Square Probability Distribution (df = 3)')\n",
    "plt.xlabel('Chi-squared statistic')\n",
    "plt.ylabel('Probability Density')"
   ]
  },
  {
   "cell_type": "markdown",
   "id": "efda7825",
   "metadata": {},
   "source": [
    "Interpretation: \n",
    "* By the time the distribution gets to chi-squared = 20, there is so       little space under the curve that it is impossible to see. \n",
    "* Obtaining a   value of chi-squared as large as 28.952 or larger in this   sample has an extremely low probability if there were no relationship    between the two variables in the population that was sampled. \n",
    "\n",
    "p-value:\n",
    "* In most of the fields, a p-value less than .05 is considered             statistically significant (other values like 0.1 or 0.001 could also be   used).\n",
    "* Probabilities as small as .000002293 are reported as suggesting that     the differences between observed and expected are statistically          significant. \n",
    "* This does not necessarily mean the differences are important or          practically significant, just that they are bigger than what would most   likely have happened if there were no relationship in the population     between the variables involved.\n",
    "\n",
    "* The p-value here is .000002293. \n",
    "* The probability of getting a chi-squared of 28.953 is very tiny, close   to—but not exactly—zero. \n",
    "* This is consistent with the graph showing very little space between the   distribution curve and the x-axis. \n",
    "\n",
    "What should we infer from having high chi-squared value and low p-value?\n",
    "* A chi-squared this big, and the corresponding p-value this small, means   the observed values were much different from what we would have          expected to see if there were no relationship between opinion on voter   registration and race-ethnicity in the population sampled.\n",
    "\n",
    "How should the above values from chi-squared test be reported?\n",
    "\n",
    "  There was a statistically significant association between views on voting ease and race-ethnicity [χ2(3) = 28.95; p <.05]."
   ]
  },
  {
   "cell_type": "markdown",
   "id": "9223ee78",
   "metadata": {},
   "source": [
    "## Using Null Hypothesis Significance Testing (NHST) to organize statistical testing\n",
    "\n",
    "5 Steps of NHST:\n",
    "* Write the null and alternate hypotheses.\n",
    "* Compute the test statistic.\n",
    "* Calculate the probability that your test statistic is at least as big    as it is if there is no relationship (i.e., the null is true).\n",
    "* If the probability that the null is true is very small, usually less     than 5%, reject the null hypothesis.\n",
    "* If the probability that the null is true is not small, usually 5% or     greater, retain the null hypothesis.\n",
    "\n",
    "#### NHST Step 1: Write the null and alternate hypotheses\n",
    "\n",
    "* The null hypothesis is usually a statement that claims there is no       difference or no relationship between things, whereas the alternate      hypothesis is the claim that there is a difference or a relationship     between things. \n",
    "* The null (H0) and alternate (HA or H1) hypotheses are written about the        population and are tested using a sample from the population. \n",
    "* Here are the null and alternate hypotheses for the voting data:\n",
    "  \n",
    "  H0: People’s opinions on voter registration are the same across              race-ethnicity groups.\n",
    "  HA: People’s opinions on voter registration are not the same across          race-ethnicity groups.\n",
    "\n",
    "#### NHST Step 2: Compute the test statistic\n",
    "\n",
    "The test statistic to use when examining a relationship between two categorical variables is the chi-squared statistic, χ2."
   ]
  },
  {
   "cell_type": "code",
   "execution_count": 25,
   "id": "878d1dfa",
   "metadata": {},
   "outputs": [
    {
     "name": "stdout",
     "output_type": "stream",
     "text": [
      "Chi-Squared Statistic: 28.951544743246167\n",
      "p-value: 2.2925503795395684e-06\n",
      "Degrees of Freedom: 3\n",
      "Expected Values: [[ 74.67144319  87.70931423  43.26202661 373.35721597]\n",
      " [ 51.32855681  60.29068577  29.73797339 256.64278403]]\n"
     ]
    }
   ],
   "source": [
    "# Create a contingency table from the vote.cleaned dataset\n",
    "contingency_table = pd.crosstab(vote_cleaned['ease.vote'], vote_cleaned['race'])\n",
    "\n",
    "# Perform the chi-squared test\n",
    "chi2_statistic, p_value, degrees_of_freedom, expected_values = chi2_contingency(contingency_table)\n",
    "\n",
    "# Print the results\n",
    "print(\"Chi-Squared Statistic:\", chi2_statistic)\n",
    "print(\"p-value:\", p_value)\n",
    "print(\"Degrees of Freedom:\", degrees_of_freedom)\n",
    "print(\"Expected Values:\", expected_values)"
   ]
  },
  {
   "cell_type": "markdown",
   "id": "fada52d9",
   "metadata": {},
   "source": [
    "The test statistic is χ2 : 28.952\n",
    "\n",
    "\n",
    "#### NHST Step 3: Calculate the probability that your test statistic is at least as big as it is if there is no relationship (i.e., the null is true)\n",
    "\n",
    "\n",
    "The probability of seeing a chi-squared as big as 28.95 in our sample if there were no relationship in the population between opinion on voting ease and race-ethnicity group would be 0.000002293 or p < .05.\n",
    "\n",
    "\n",
    "#### NHST Step 4: If the probability that the null is true is very small, usually less than 5%, reject the null hypothesis.\n",
    "\n",
    "\n",
    "p = 0.000002293 or p < .05.\n",
    "Hence, Rejecting null hypothesis\n",
    "\n",
    "\n",
    "#### NHST Step 5: If the probability that the null is true is not small, usually 5% or greater, retain the null hypothesis\n",
    "\n",
    "\n",
    "Not applicable here as p < 0.05 (i.e.,p = 0.000002293)\n"
   ]
  },
  {
   "cell_type": "markdown",
   "id": "86dca5c6",
   "metadata": {},
   "source": [
    "How to report the full interpretation after we do the five steps of NHST?????\n",
    "\n",
    "  We used the chi-squared test to test the null hypothesis that there was   no relationship between opinions on voter registration and               race-ethnicity group. We rejected the null hypothesis and concluded      that there was a statistically significant association between views on   voter registration and race-ethnicity [χ2(3) = 28.95; p < .05].\n",
    "  \n",
    "  \n",
    "NOTE the difference between chi-squared test of independence vs goodness-of-fit:\n",
    "\n",
    "* The chi-squared test of independence tests whether there is a relationship between two categorical variables. \n",
    "* The chi-squared goodness-of-fit test is used in a different situation. \n",
    "* Specifically, the chi-squared goodness-of-fit test is used for           comparing the values of a single categorical variable to values from a   hypothesized or population variable. \n",
    "* The goodness-of-fit test is often used when trying to determine if a     sample is a good representation of the population.\n",
    "\n",
    "Example:\n",
    "H0: The proportions of people in each race-ethnicity category in the sample are the same as the proportions of people in each race-ethnicity category in the U.S. population.\n",
    "HA: The proportions of people in each race-ethnicity category in the sample are not the same as the proportions of people in each race-ethnicity category in the U.S. population.\n",
    "\n",
    "LIMITATION OF CHI-SQUARED INDEPENDENCE TEST:\n",
    "* It determines whether or not there is a statistically significant        relationship between two categorical variables but does not identify     what makes the relationship significant. "
   ]
  },
  {
   "cell_type": "markdown",
   "id": "540206e1",
   "metadata": {},
   "source": [
    "## Using standardized residuals following chi-squared tests\n",
    "\n",
    "* Standardized residuals (like z-scores) can aid analysts in determining   which of the observed frequencies are significantly larger or smaller    than expected. \n",
    "* The standardized residual is computed by subtracting the expected value   in a cell from the observed value in a cell and dividing by the square   root of the expected value\n",
    "* The resulting value is the standardized residual and is distributed      like a z-score. \n",
    "* Values of the standardized residuals that are higher than 1.96 or lower   than –1.96 indicate that the observed value in that group is much        higher or lower than the expected value. \n",
    "* These are the groups that are contributing the most to a large           chi-squared statistic and could be examined further and included in the   interpretation.\n",
    "* Standardized residuals are available with the chi-squared statistic      from the CrossTable() function in the descr package."
   ]
  },
  {
   "cell_type": "code",
   "execution_count": 26,
   "id": "4360dd88",
   "metadata": {},
   "outputs": [
    {
     "name": "stdout",
     "output_type": "stream",
     "text": [
      "Cross-Tabulation Table:\n",
      "race               Black non-Hispanic  Hispanic  Other  White non-Hispanic\n",
      "ease.vote                                                                 \n",
      "Make easy to vote                  98        97     46                 338\n",
      "Register to vote                   28        51     27                 292\n",
      "\n",
      "Chi-Squared Statistic: 28.951544743246167\n",
      "p-value: 2.2925503795395684e-06\n",
      "\n",
      "Expected Values:\n",
      "race               Black non-Hispanic   Hispanic      Other  \\\n",
      "ease.vote                                                     \n",
      "Make easy to vote           74.671443  87.709314  43.262027   \n",
      "Register to vote            51.328557  60.290686  29.737973   \n",
      "\n",
      "race               White non-Hispanic  \n",
      "ease.vote                              \n",
      "Make easy to vote          373.357216  \n",
      "Register to vote           256.642784  \n",
      "\n",
      "Standardized Residuals:\n",
      "race               Black non-Hispanic  Hispanic     Other  White non-Hispanic\n",
      "ease.vote                                                                    \n",
      "Make easy to vote            2.699669  0.992030  0.416271           -1.829851\n",
      "Register to vote            -3.256180 -1.196527 -0.502081            2.207057\n"
     ]
    }
   ],
   "source": [
    "import scipy.stats as stats\n",
    "import statsmodels.api as sm\n",
    "\n",
    "# Create a cross-tabulation table\n",
    "cross_table = pd.crosstab(vote_cleaned['ease.vote'], vote_cleaned['race'])\n",
    "\n",
    "# Perform the chi-squared test\n",
    "chi2, p, _, expected = stats.chi2_contingency(cross_table)\n",
    "\n",
    "# Create a new cross-tabulation table with expected values\n",
    "expected_table = pd.DataFrame(expected, index=cross_table.index, columns=cross_table.columns)\n",
    "\n",
    "# Calculate the standardized residuals\n",
    "residuals = (cross_table - expected_table) / np.sqrt(expected_table)\n",
    "\n",
    "# Print the cross-tabulation table, chi-squared test results, and standardized residuals\n",
    "print(\"Cross-Tabulation Table:\")\n",
    "print(cross_table)\n",
    "print(\"\\nChi-Squared Statistic:\", chi2)\n",
    "print(\"p-value:\", p)\n",
    "print(\"\\nExpected Values:\")\n",
    "print(expected_table)\n",
    "print(\"\\nStandardized Residuals:\")\n",
    "print(residuals)\n"
   ]
  },
  {
   "cell_type": "markdown",
   "id": "6e37fca0",
   "metadata": {},
   "source": [
    "* Values of the standardized residuals that are higher than 1.96 or lower   than –1.96 indicate that the observed value in that group is much        higher or lower than the expected value. \n",
    "\n",
    "\n",
    "Interpretation:\n",
    "\n",
    "* The standardized residuals are shown in the last row of each cell (see   the key at the top of the table to figure this out) with an absolute     value higher than 1.96 in the White non-Hispanic group for “Register to   vote” (std. res. = 2.207) and Black non-Hispanic group for both          categories; the standardized residual was –3.256 for “Register to vote”   and 2.700 for “Make easy to vote.”\n",
    "* The 2.207 value for White non-Hispanic who selected “Register to vote”   indicates that more White non-Hispanic people than expected selected     that option. \n",
    "* The –3.256 for Black non-Hispanic indicated that fewer Black             non-Hispanic people than expected selected “Register to vote.”\n",
    "* Finally,the 2.700 for Black non-Hispanic indicated that more Black       non-Hispanic people than expected selected “Make easy to vote.” \n",
    "* The Hispanic and Other race-ethnicity groups did not have more or fewer   than expected observations in either category. \n",
    "* The significant chi-squared result was driven by more White              non-Hispanic and fewer Black non-Hispanic people feeling that people     should prove they want to vote by registering and more Black             non-Hispanic people feeling that the process for voting should be made   easier.\n",
    "\n",
    "\n",
    "How to report the added interpretation from above??????\n",
    "\n",
    "  We used the chi-squared test to test the null hypothesis that there was   no relationship between opinions on voter registration by                race-ethnicity group. We rejected the null hypothesis and concluded      that there was a statistically significant association between views on   voter registration and race-ethnicity [χ2(3) = 28.95; p < .05]. Based    on standardized residuals, the statistically significant chi-squared     test result was driven by more White non-Hispanic participants and       fewer Black non-Hispanic participants than expected believe that people   should prove they want to vote by registering, and more Black            non-Hispanic participants than expected believe that the voting process   should be made easier."
   ]
  },
  {
   "cell_type": "markdown",
   "id": "f9df543a",
   "metadata": {},
   "source": [
    "---\n",
    "## Computing and interpreting effect sizes to understand the strength of a significant chi-squared relationship\n",
    "\n",
    "* Computing the Cramér’s V statistic\n",
    "\n",
    "  The strength of a relationship in statistics is referred to as effect    size. \n",
    "  For chi-squared, there are a few options, including the commonly used    effect size statistic of Cramér’s V.\n",
    "          V = square_root(χ2/(n(k-1))) \n",
    "\n",
    "In voting example, k=2 (two categories of voting easy variable)\n",
    "      n =977 (check line 326)\n",
    "      χ2= 28.952 (check line 434)\n",
    "      \n",
    "  V= square_root(28.952/(977(2-1)))= 0.17"
   ]
  },
  {
   "cell_type": "code",
   "execution_count": 27,
   "id": "dee72544",
   "metadata": {},
   "outputs": [
    {
     "name": "stdout",
     "output_type": "stream",
     "text": [
      "Cramér's V: 0.1630539053135831\n"
     ]
    }
   ],
   "source": [
    "import pandas as pd\n",
    "import numpy as np\n",
    "import scipy.stats as stats\n",
    "\n",
    "def cramers_v(confusion_matrix):\n",
    "    chi2 = stats.chi2_contingency(confusion_matrix)[0]\n",
    "    n = confusion_matrix.sum().sum()\n",
    "    phi2 = chi2 / n\n",
    "    r, k = confusion_matrix.shape\n",
    "    phi2corr = max(0, phi2 - ((k - 1) * (r - 1)) / (n - 1))\n",
    "    rcorr = r - ((r - 1) ** 2) / (n - 1)\n",
    "    kcorr = k - ((k - 1) ** 2) / (n - 1)\n",
    "    return np.sqrt(phi2corr / min((kcorr - 1), (rcorr - 1)))\n",
    "\n",
    "# Create a cross-tabulation table\n",
    "cross_table = pd.crosstab(vote_cleaned['ease.vote'], vote_cleaned['race'])\n",
    "\n",
    "# Compute Cramér's V\n",
    "cramers_v_value = cramers_v(cross_table.values)\n",
    "\n",
    "print(\"Cramér's V:\", cramers_v_value)\n"
   ]
  },
  {
   "cell_type": "markdown",
   "id": "7ba23798",
   "metadata": {},
   "source": [
    "How to interpret Cramer's V?\n",
    "* Small or weak effect size for V = .1\n",
    "* Medium or moderate effect size for V = .3\n",
    "* Large or strong effect size for V = .5\n",
    "\n",
    "In this case, the effect size is between small and medium. \n",
    "\n",
    "Interpretation:\n",
    "\n",
    "There is a statistically significant relationship between opinions on voter registration and race-ethnicity, and the relationship is weak to moderate. "
   ]
  },
  {
   "cell_type": "markdown",
   "id": "0b97323c",
   "metadata": {},
   "source": [
    "## An example of chi-squared for two binary variables\n",
    "\n",
    "####################################################\n",
    "\n",
    "NHST Step 1: Write the null and alternate hypotheses\n",
    "\n",
    "####################################################\n",
    "\n",
    "H0: Opinions on voter registration are the same by home ownership status.\n",
    "HA: Opinions on voter registration are not the same by home ownership status.\n",
    "\n",
    "#################################################\n",
    "\n",
    "NHST Step 2: Compute the test statistic\n",
    "\n",
    "#################################################\n"
   ]
  },
  {
   "cell_type": "code",
   "execution_count": 28,
   "id": "df6f13dd",
   "metadata": {},
   "outputs": [
    {
     "name": "stdout",
     "output_type": "stream",
     "text": [
      "Chi-squared statistic: 5.898905291286223\n",
      "p-value: 0.01515029832224896\n",
      "Degrees of freedom: 1\n"
     ]
    }
   ],
   "source": [
    "# Create a contingency table\n",
    "contingency_table = pd.crosstab(vote_cleaned['ease.vote'], vote_cleaned['ownhome'])\n",
    "\n",
    "# Perform chi-squared test\n",
    "chi2, p_value, dof, expected = chi2_contingency(contingency_table)\n",
    "\n",
    "# Print the chi-squared test results\n",
    "print(\"Chi-squared statistic:\", chi2)\n",
    "print(\"p-value:\", p_value)\n",
    "print(\"Degrees of freedom:\", dof)"
   ]
  },
  {
   "cell_type": "markdown",
   "id": "792be861",
   "metadata": {},
   "source": [
    "#########################################################################\n",
    "\n",
    "Step 3: Calculate the probability that your test statistic is at least as big as it is if there is no relationship (i.e., the null is true)\n",
    "\n",
    "#########################################################################\n",
    "\n",
    "The p-value is .0152.\n",
    "\n",
    "###############################################################\n",
    "\n",
    "Step 4 and 5:Interpret the probability and write a conclusion\n",
    "\n",
    "###############################################################\n",
    "\n",
    "There was a statistically significant relationship between opinion on registering to vote and home ownership [χ2(1) = 5.90; p = .02]."
   ]
  },
  {
   "cell_type": "code",
   "execution_count": null,
   "id": "15bea3ed",
   "metadata": {},
   "outputs": [],
   "source": []
  }
 ],
 "metadata": {
  "kernelspec": {
   "display_name": "Python 3 (ipykernel)",
   "language": "python",
   "name": "python3"
  },
  "language_info": {
   "codemirror_mode": {
    "name": "ipython",
    "version": 3
   },
   "file_extension": ".py",
   "mimetype": "text/x-python",
   "name": "python",
   "nbconvert_exporter": "python",
   "pygments_lexer": "ipython3",
   "version": "3.9.13"
  }
 },
 "nbformat": 4,
 "nbformat_minor": 5
}
